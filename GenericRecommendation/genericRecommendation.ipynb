{
 "cells": [
  {
   "cell_type": "markdown",
   "metadata": {},
   "source": [
    "**Module**"
   ]
  },
  {
   "cell_type": "code",
   "execution_count": 1,
   "metadata": {},
   "outputs": [],
   "source": [
    "import pandas as pd\n",
    "import numpy as np\n",
    "from configparser import ConfigParser\n",
    "from mysql.connector import MySQLConnection,Error"
   ]
  },
  {
   "cell_type": "markdown",
   "metadata": {},
   "source": [
    "**Config reading and parsing**"
   ]
  },
  {
   "cell_type": "code",
   "execution_count": 2,
   "metadata": {},
   "outputs": [
    {
     "name": "stdout",
     "output_type": "stream",
     "text": [
      "{'host': '127.0.0.1', 'port': '99966', 'database': 'books', 'user': 'root', 'password': 'Milla123!'}\n"
     ]
    }
   ],
   "source": [
    "# reading database credentials from config.ini file\n",
    "\n",
    "def read(filename='config.ini',section='mysql'):\n",
    "    parser=ConfigParser()\n",
    "    parser.read(filename)\n",
    "    \n",
    "    db={}\n",
    "    \n",
    "    if parser.has_section(section):\n",
    "        items=parser.items(section)\n",
    "        for item in items:\n",
    "            db[item[0]]=item[1]\n",
    "    else:\n",
    "        raise Exception(f'{section} not found in file {filename}')\n",
    "    return db \n",
    "\n",
    "\n",
    "print(read(filename=\"config.ini\",section=\"mysql\"))"
   ]
  },
  {
   "cell_type": "markdown",
   "metadata": {},
   "source": [
    "**Connecting with MySQL/MariaDB database server and getting the connection and cursor object**"
   ]
  },
  {
   "cell_type": "code",
   "execution_count": 3,
   "metadata": {},
   "outputs": [
    {
     "name": "stdout",
     "output_type": "stream",
     "text": [
      "Connecting to MySQL database...\n",
      "Connection established\n"
     ]
    }
   ],
   "source": [
    "def connect(creds):\n",
    "    con=None\n",
    "    try:\n",
    "        print('Connecting to MySQL database...')\n",
    "        con=MySQLConnection(**creds)\n",
    "        \n",
    "        \n",
    "        if con.is_connected():\n",
    "            print('Connection established')\n",
    "            cus = con.cursor(buffered=True)\n",
    "        else:\n",
    "            print('Connection failed')\n",
    "            \n",
    "    except Error as e:\n",
    "        print(e)\n",
    "    finally:\n",
    "        return con,cus\n",
    "    \n",
    "cn,cs=connect(creds=read(filename=\"config.ini\",section=\"mysql\"))"
   ]
  },
  {
   "cell_type": "markdown",
   "metadata": {},
   "source": [
    "### Getting top 20 most famous books of all time"
   ]
  },
  {
   "cell_type": "markdown",
   "metadata": {},
   "source": [
    "- Sort by book_ratings_count and then sort by book_average_rating"
   ]
  },
  {
   "cell_type": "markdown",
   "metadata": {},
   "source": [
    "#### SQL + Python"
   ]
  },
  {
   "cell_type": "code",
   "execution_count": 7,
   "metadata": {},
   "outputs": [],
   "source": [
    "sql_query = \"\"\"\n",
    "SELECT gr_book_id, book_title, book_ratings_count, book_average_rating\n",
    "FROM book\n",
    "ORDER BY book_ratings_count DESC\n",
    "LIMIT 100;\n",
    "\"\"\""
   ]
  },
  {
   "cell_type": "code",
   "execution_count": 8,
   "metadata": {},
   "outputs": [],
   "source": [
    "cs.execute(sql_query)"
   ]
  },
  {
   "cell_type": "code",
   "execution_count": 6,
   "metadata": {},
   "outputs": [],
   "source": [
    "top100_by_ratings_count = cs.fetchall()"
   ]
  },
  {
   "cell_type": "code",
   "execution_count": 7,
   "metadata": {},
   "outputs": [
    {
     "name": "stdout",
     "output_type": "stream",
     "text": [
      "(2767052, 'The Hunger Games (The Hunger Games, #1)', 4899965, 4.34)\n",
      "(3, \"Harry Potter and the Sorcerer's Stone (Harry Potter, #1)\", 4765497, 4.45)\n",
      "(41865, 'Twilight (Twilight, #1)', 3941381, 3.57)\n",
      "(2657, 'To Kill a Mockingbird', 3255518, 4.26)\n",
      "(4671, 'The Great Gatsby', 2758812, 3.89)\n",
      "(11870085, 'The Fault in Our Stars', 2429317, 4.26)\n",
      "(5907, 'The Hobbit', 2099680, 4.25)\n",
      "(5107, 'The Catcher in the Rye', 2086945, 3.79)\n",
      "(1885, 'Pride and Prejudice', 2078406, 4.25)\n",
      "(960, 'Angels & Demons  (Robert Langdon, #1)', 2046499, 3.86)\n",
      "(48855, 'The Diary of a Young Girl', 2028299, 4.1)\n",
      "(5470, '1984', 2023937, 4.14)\n",
      "(13335037, 'Divergent (Divergent, #1)', 1962813, 4.23)\n",
      "(7613, 'Animal Farm', 1928931, 3.88)\n",
      "(5, 'Harry Potter and the Prisoner of Azkaban (Harry Potter, #3)', 1876252, 4.53)\n",
      "(2429135, 'The Girl with the Dragon Tattoo (Millennium, #1)', 1858152, 4.11)\n",
      "(6148028, 'Catching Fire (The Hunger Games, #2)', 1854746, 4.3)\n",
      "(77203, 'The Kite Runner', 1848782, 4.26)\n",
      "(15881, 'Harry Potter and the Chamber of Secrets (Harry Potter, #2)', 1821802, 4.38)\n",
      "(34, 'The Fellowship of the Ring (The Lord of the Rings, #1)', 1813229, 4.34)\n"
     ]
    }
   ],
   "source": [
    "for i in top100_by_ratings_count[:20]:\n",
    "    print(i)"
   ]
  },
  {
   "cell_type": "code",
   "execution_count": 8,
   "metadata": {},
   "outputs": [
    {
     "name": "stdout",
     "output_type": "stream",
     "text": [
      "[4.34, 4.45, 3.57, 4.26, 3.89, 4.26, 4.25, 3.79, 4.25, 3.86, 4.1, 4.14, 4.23, 3.88, 4.53, 4.11, 4.3, 4.26, 4.38, 4.34, 4.53, 4.62, 4.47, 4.03, 4.54, 3.74, 3.65, 3.78, 4.19, 4.45, 3.84, 3.79, 4.23, 4.45, 3.66, 3.82, 4.12, 4.08, 4.04, 4.1, 3.51, 4.36, 4.12, 3.52, 3.69, 3.86, 4.15, 4.07, 3.7, 3.88, 4.07, 3.97, 4.29, 3.88, 3.94, 3.8, 4.2, 4.02, 3.83, 4.21, 4.28, 3.85, 4.06, 4.06, 4.07, 4.34, 4.3, 3.76, 4.18, 4.08, 3.93, 4.28, 3.84, 3.75, 3.95, 4.03, 4.06, 4.37, 4.3, 3.73, 3.7, 4.06, 3.95, 4.12, 4.07, 3.82, 4.24, 3.98, 4.22, 4.04, 4.25, 4.27, 4.06, 4.34, 4.03, 4.1, 3.97, 4.03, 4.22, 3.98]\n"
     ]
    }
   ],
   "source": [
    "avg_ratings_top100 = list()\n",
    "\n",
    "for i in top100_by_ratings_count:\n",
    "    avg_ratings_top100.append(i[3])\n",
    "\n",
    "print(avg_ratings_top100)"
   ]
  },
  {
   "cell_type": "code",
   "execution_count": 9,
   "metadata": {},
   "outputs": [
    {
     "data": {
      "text/plain": [
       "array([21, 24, 20, 14, 22,  1, 29, 33, 18, 77, 41, 19, 65, 93,  0, 78, 66,\n",
       "       16, 52, 71, 60, 91,  5, 17,  3,  8, 90,  6, 86, 32, 12, 98, 88, 59,\n",
       "       56, 28, 68, 46, 11, 42, 36, 83, 15, 39, 10, 95, 37, 69, 47, 64, 50,\n",
       "       84, 76, 62, 92, 63, 81, 89, 38, 94, 75, 23, 97, 57, 99, 87, 96, 51,\n",
       "       82, 74, 54, 70,  4, 49, 53, 13,  9, 45, 61, 72, 30, 58, 35, 85, 55,\n",
       "        7, 31, 27, 67, 73, 25, 79, 48, 80, 44, 34, 26,  2, 43, 40],\n",
       "      dtype=int64)"
      ]
     },
     "execution_count": 9,
     "metadata": {},
     "output_type": "execute_result"
    }
   ],
   "source": [
    "sorted_by_ratings_indices = np.argsort(np.array(avg_ratings_top100))[::-1]\n",
    "sorted_by_ratings_indices"
   ]
  },
  {
   "cell_type": "code",
   "execution_count": 10,
   "metadata": {},
   "outputs": [
    {
     "name": "stdout",
     "output_type": "stream",
     "text": [
      "(136251, 'Harry Potter and the Deathly Hallows (Harry Potter, #7)', 1784684, 4.62)\n",
      "(1, 'Harry Potter and the Half-Blood Prince (Harry Potter, #6)', 1713866, 4.54)\n",
      "(6, 'Harry Potter and the Goblet of Fire (Harry Potter, #4)', 1792561, 4.53)\n",
      "(5, 'Harry Potter and the Prisoner of Azkaban (Harry Potter, #3)', 1876252, 4.53)\n",
      "(2, 'Harry Potter and the Order of the Phoenix (Harry Potter, #5)', 1766895, 4.47)\n",
      "(3, \"Harry Potter and the Sorcerer's Stone (Harry Potter, #1)\", 4765497, 4.45)\n",
      "(4667024, 'The Help', 1565302, 4.45)\n",
      "(13496, 'A Game of Thrones (A Song of Ice and Fire, #1)', 1359501, 4.45)\n",
      "(15881, 'Harry Potter and the Chamber of Secrets (Harry Potter, #2)', 1821802, 4.38)\n",
      "(370493, 'The Giving Tree', 720582, 4.37)\n",
      "(19063, 'The Book Thief', 1193697, 4.36)\n",
      "(34, 'The Fellowship of the Ring (The Lord of the Rings, #1)', 1813229, 4.34)\n",
      "(128029, 'A Thousand Splendid Suns', 835172, 4.34)\n",
      "(3777732, 'City of Glass (The Mortal Instruments, #3)', 606729, 4.34)\n",
      "(2767052, 'The Hunger Games (The Hunger Games, #1)', 4899965, 4.34)\n",
      "(1617, 'Night (The Night Trilogy #1)', 708754, 4.3)\n",
      "(375802, \"Ender's Game (Ender's Saga, #1)\", 829380, 4.3)\n",
      "(6148028, 'Catching Fire (The Hunger Games, #2)', 1854746, 4.3)\n",
      "(30119, 'Where the Sidewalk Ends', 1029527, 4.29)\n",
      "(157993, 'The Little Prince', 763309, 4.28)\n"
     ]
    }
   ],
   "source": [
    "for i in sorted_by_ratings_indices[:20]:\n",
    "    print(top100_by_ratings_count[i])"
   ]
  },
  {
   "cell_type": "markdown",
   "metadata": {},
   "source": [
    "#### Only SQL with Stored Procedure"
   ]
  },
  {
   "cell_type": "markdown",
   "metadata": {},
   "source": [
    "**We can do the same with the following query**"
   ]
  },
  {
   "cell_type": "markdown",
   "metadata": {},
   "source": [
    "```\n",
    "CREATE TEMPORARY TABLE sort_by_rating_count AS\n",
    "SELECT gr_book_id, book_title, book_ratings_count, book_average_rating\n",
    "FROM book\n",
    "ORDER BY book_ratings_count DESC\n",
    "LIMIT 100;\n",
    "\n",
    "SELECT * FROM sort_by_rating_count\n",
    "ORDER BY book_average_rating DESC\n",
    "LIMIT 20;\n",
    "\n",
    "DROP TEMPORARY TABLE IF EXISTS sort_by_rating_count;\n",
    "```"
   ]
  },
  {
   "cell_type": "markdown",
   "metadata": {},
   "source": [
    "**Custom function to call the storted procedure to fetch top 20 books**"
   ]
  },
  {
   "cell_type": "code",
   "execution_count": 14,
   "metadata": {},
   "outputs": [],
   "source": [
    "def get_top_recommendation_overall(cs,\n",
    "                   proc_name = \"sp_get_top_recommendation_overall\"\n",
    "                   ):\n",
    "\n",
    "        procs_args_complete = []\n",
    "        \n",
    "        proc_args_initial=[0]\n",
    "        procs_args_complete.extend(proc_args_initial)\n",
    "\n",
    "        cs.callproc(proc_name, procs_args_complete)\n",
    "\n",
    "        top_books = [r.fetchall() for r in cs.stored_results()]\n",
    "\n",
    "        return top_books"
   ]
  },
  {
   "cell_type": "code",
   "execution_count": 15,
   "metadata": {},
   "outputs": [],
   "source": [
    "top20_books = get_top_recommendation_overall(cs=cs)"
   ]
  },
  {
   "cell_type": "code",
   "execution_count": 16,
   "metadata": {},
   "outputs": [
    {
     "name": "stdout",
     "output_type": "stream",
     "text": [
      "(1457946, 136251, 'Harry Potter and the Deathly Hallows (Harry Potter, #7)', 1784684, 4.62)\n",
      "(770873, 1, 'Harry Potter and the Half-Blood Prince (Harry Potter, #6)', 1713866, 4.54)\n",
      "(920761, 5, 'Harry Potter and the Prisoner of Azkaban (Harry Potter, #3)', 1876252, 4.53)\n",
      "(2015402, 6, 'Harry Potter and the Goblet of Fire (Harry Potter, #4)', 1792561, 4.53)\n",
      "(1865211, 2, 'Harry Potter and the Order of the Phoenix (Harry Potter, #5)', 1766895, 4.47)\n",
      "(1419077, 3, \"Harry Potter and the Sorcerer's Stone (Harry Potter, #1)\", 4765497, 4.45)\n",
      "(843331, 4667024, 'The Help', 1565302, 4.45)\n",
      "(1561323, 13496, 'A Game of Thrones (A Song of Ice and Fire, #1)', 1359501, 4.45)\n",
      "(1606553, 15881, 'Harry Potter and the Chamber of Secrets (Harry Potter, #2)', 1821802, 4.38)\n",
      "(2100157, 370493, 'The Giving Tree', 720582, 4.37)\n",
      "(602543, 19063, 'The Book Thief', 1193697, 4.36)\n",
      "(458630, 2767052, 'The Hunger Games (The Hunger Games, #1)', 4899965, 4.34)\n",
      "(1958361, 34, 'The Fellowship of the Ring (The Lord of the Rings, #1)', 1813229, 4.34)\n",
      "(627775, 128029, 'A Thousand Splendid Suns', 835172, 4.34)\n",
      "(1901472, 3777732, 'City of Glass (The Mortal Instruments, #3)', 606729, 4.34)\n",
      "(1346194, 6148028, 'Catching Fire (The Hunger Games, #2)', 1854746, 4.3)\n",
      "(934818, 375802, \"Ender's Game (Ender's Saga, #1)\", 829380, 4.3)\n",
      "(819620, 1617, 'Night (The Night Trilogy #1)', 708754, 4.3)\n",
      "(1859566, 30119, 'Where the Sidewalk Ends', 1029527, 4.29)\n",
      "(1292326, 18405, 'Gone with the Wind', 887935, 4.28)\n"
     ]
    }
   ],
   "source": [
    "for i in top20_books[0]:\n",
    "    print(i)"
   ]
  },
  {
   "cell_type": "markdown",
   "metadata": {},
   "source": [
    "**Get top recommendation by genre**"
   ]
  },
  {
   "cell_type": "code",
   "execution_count": 7,
   "metadata": {},
   "outputs": [],
   "source": [
    "def get_top_recommendation_by_genre(cs,\n",
    "                   proc_name = \"sp_get_top_recommendation_by_genre\"\n",
    "                   ):\n",
    "\n",
    "        procs_args_complete = []\n",
    "        \n",
    "        proc_args_initial=[0]\n",
    "        procs_args_complete.extend(proc_args_initial)\n",
    "\n",
    "        cs.callproc(proc_name, procs_args_complete)\n",
    "\n",
    "        top_books = [r.fetchall() for r in cs.stored_results()]\n",
    "\n",
    "        return top_books"
   ]
  },
  {
   "cell_type": "code",
   "execution_count": 12,
   "metadata": {},
   "outputs": [],
   "source": [
    "top10_by_genre = get_top_recommendation_by_genre(cs=cs)"
   ]
  },
  {
   "cell_type": "code",
   "execution_count": 13,
   "metadata": {},
   "outputs": [
    {
     "name": "stdout",
     "output_type": "stream",
     "text": [
      "(1548484, 62291, 'A Storm of Swords (A Song of Ice and Fire, #3)', 477834, 4.54, 2, 1)\n",
      "(843331, 4667024, 'The Help', 1565302, 4.45, 2, 2)\n",
      "(1561323, 13496, 'A Game of Thrones (A Song of Ice and Fire, #1)', 1359501, 4.45, 2, 3)\n",
      "(115707, 10572, 'A Clash of Kings  (A Song of Ice and Fire, #2)', 534960, 4.4, 2, 4)\n",
      "(22329, 8664353, 'Unbroken: A World War II Story of Survival, Resilience, and Redemption', 504961, 4.39, 2, 5)\n",
      "(602543, 19063, 'The Book Thief', 1193697, 4.36, 2, 6)\n",
      "(65815, 472331, 'Watchmen', 406669, 4.35, 2, 7)\n",
      "(1115750, 4406, 'East of Eden', 326016, 4.35, 2, 8)\n",
      "(627775, 128029, 'A Thousand Splendid Suns', 835172, 4.34, 2, 9)\n",
      "(2031800, 7171637, 'Clockwork Angel (The Infernal Devices, #1)', 502358, 4.33, 2, 10)\n",
      "(1457946, 136251, 'Harry Potter and the Deathly Hallows (Harry Potter, #7)', 1784684, 4.62, 3, 1)\n",
      "(770873, 1, 'Harry Potter and the Half-Blood Prince (Harry Potter, #6)', 1713866, 4.54, 3, 2)\n",
      "(920761, 5, 'Harry Potter and the Prisoner of Azkaban (Harry Potter, #3)', 1876252, 4.53, 3, 3)\n",
      "(2015402, 6, 'Harry Potter and the Goblet of Fire (Harry Potter, #4)', 1792561, 4.53, 3, 4)\n",
      "(345824, 4502507, 'The Last Olympian (Percy Jackson and the Olympians, #5)', 398036, 4.5, 3, 5)\n",
      "(1865211, 2, 'Harry Potter and the Order of the Phoenix (Harry Potter, #5)', 1766895, 4.47, 3, 6)\n",
      "(1419077, 3, \"Harry Potter and the Sorcerer's Stone (Harry Potter, #1)\", 4765497, 4.45, 3, 7)\n",
      "(1906602, 2120932, 'The Battle of the Labyrinth (Percy Jackson and the Olympians, #4)', 519213, 4.39, 3, 8)\n",
      "(1606553, 15881, 'Harry Potter and the Chamber of Secrets (Harry Potter, #2)', 1821802, 4.38, 3, 9)\n",
      "(2100157, 370493, 'The Giving Tree', 720582, 4.37, 3, 10)\n",
      "(22329, 8664353, 'Unbroken: A World War II Story of Survival, Resilience, and Redemption', 504961, 4.39, 4, 1)\n",
      "(65815, 472331, 'Watchmen', 406669, 4.35, 4, 2)\n",
      "(819620, 1617, 'Night (The Night Trilogy #1)', 708754, 4.3, 4, 3)\n",
      "(1607515, 7445, 'The Glass Castle', 643450, 4.24, 4, 4)\n",
      "(1378078, 12691, \"Marley and Me: Life and Love With the World's Worst Dog\", 373596, 4.12, 4, 5)\n",
      "(2030952, 48855, 'The Diary of a Young Girl', 2028299, 4.1, 4, 6)\n",
      "(419726, 11084145, 'Steve Jobs', 594067, 4.1, 4, 7)\n",
      "(1173147, 252577, \"Angela's Ashes (Frank McCourt, #1)\", 401029, 4.08, 4, 8)\n",
      "(693917, 6900, 'Tuesdays with Morrie', 569888, 4.07, 4, 9)\n",
      "(2079404, 6493208, 'The Immortal Life of Henrietta Lacks', 390601, 4.04, 4, 10)\n",
      "(1457946, 136251, 'Harry Potter and the Deathly Hallows (Harry Potter, #7)', 1784684, 4.62, 5, 1)\n",
      "(770873, 1, 'Harry Potter and the Half-Blood Prince (Harry Potter, #6)', 1713866, 4.54, 5, 2)\n",
      "(920761, 5, 'Harry Potter and the Prisoner of Azkaban (Harry Potter, #3)', 1876252, 4.53, 5, 3)\n",
      "(1865211, 2, 'Harry Potter and the Order of the Phoenix (Harry Potter, #5)', 1766895, 4.47, 5, 4)\n",
      "(1419077, 3, \"Harry Potter and the Sorcerer's Stone (Harry Potter, #1)\", 4765497, 4.45, 5, 5)\n",
      "(1561323, 13496, 'A Game of Thrones (A Song of Ice and Fire, #1)', 1359501, 4.45, 5, 6)\n",
      "(1722739, 18007564, 'The Martian', 435440, 4.39, 5, 7)\n",
      "(1606553, 15881, 'Harry Potter and the Chamber of Secrets (Harry Potter, #2)', 1821802, 4.38, 5, 8)\n",
      "(65815, 472331, 'Watchmen', 406669, 4.35, 5, 9)\n",
      "(458630, 2767052, 'The Hunger Games (The Hunger Games, #1)', 4899965, 4.34, 5, 10)\n",
      "(1457946, 136251, 'Harry Potter and the Deathly Hallows (Harry Potter, #7)', 1784684, 4.62, 6, 1)\n",
      "(5974, 186074, 'The Name of the Wind (The Kingkiller Chronicle, #1)', 416634, 4.55, 6, 2)\n",
      "(770873, 1, 'Harry Potter and the Half-Blood Prince (Harry Potter, #6)', 1713866, 4.54, 6, 3)\n",
      "(1548484, 62291, 'A Storm of Swords (A Song of Ice and Fire, #3)', 477834, 4.54, 6, 4)\n",
      "(920761, 5, 'Harry Potter and the Prisoner of Azkaban (Harry Potter, #3)', 1876252, 4.53, 6, 5)\n",
      "(2015402, 6, 'Harry Potter and the Goblet of Fire (Harry Potter, #4)', 1792561, 4.53, 6, 6)\n",
      "(1775025, 18512, 'The Return of the King (The Lord of the Rings, #3)', 473101, 4.51, 6, 7)\n",
      "(345824, 4502507, 'The Last Olympian (Percy Jackson and the Olympians, #5)', 398036, 4.5, 6, 8)\n",
      "(1958354, 33, 'The Lord of the Rings (The Lord of the Rings, #1-3)', 396933, 4.48, 6, 9)\n",
      "(1865211, 2, 'Harry Potter and the Order of the Phoenix (Harry Potter, #5)', 1766895, 4.47, 6, 10)\n",
      "(1457946, 136251, 'Harry Potter and the Deathly Hallows (Harry Potter, #7)', 1784684, 4.62, 7, 1)\n",
      "(5974, 186074, 'The Name of the Wind (The Kingkiller Chronicle, #1)', 416634, 4.55, 7, 2)\n",
      "(770873, 1, 'Harry Potter and the Half-Blood Prince (Harry Potter, #6)', 1713866, 4.54, 7, 3)\n",
      "(1548484, 62291, 'A Storm of Swords (A Song of Ice and Fire, #3)', 477834, 4.54, 7, 4)\n",
      "(920761, 5, 'Harry Potter and the Prisoner of Azkaban (Harry Potter, #3)', 1876252, 4.53, 7, 5)\n",
      "(2015402, 6, 'Harry Potter and the Goblet of Fire (Harry Potter, #4)', 1792561, 4.53, 7, 6)\n",
      "(1775025, 18512, 'The Return of the King (The Lord of the Rings, #3)', 473101, 4.51, 7, 7)\n",
      "(345824, 4502507, 'The Last Olympian (Percy Jackson and the Olympians, #5)', 398036, 4.5, 7, 8)\n",
      "(1958354, 33, 'The Lord of the Rings (The Lord of the Rings, #1-3)', 396933, 4.48, 7, 9)\n",
      "(1865211, 2, 'Harry Potter and the Order of the Phoenix (Harry Potter, #5)', 1766895, 4.47, 7, 10)\n",
      "(22329, 8664353, 'Unbroken: A World War II Story of Survival, Resilience, and Redemption', 504961, 4.39, 8, 1)\n",
      "(65815, 472331, 'Watchmen', 406669, 4.35, 8, 2)\n",
      "(819620, 1617, 'Night (The Night Trilogy #1)', 708754, 4.3, 8, 3)\n",
      "(1607515, 7445, 'The Glass Castle', 643450, 4.24, 8, 4)\n",
      "(1378078, 12691, \"Marley and Me: Life and Love With the World's Worst Dog\", 373596, 4.12, 8, 5)\n",
      "(2030952, 48855, 'The Diary of a Young Girl', 2028299, 4.1, 8, 6)\n",
      "(419726, 11084145, 'Steve Jobs', 594067, 4.1, 8, 7)\n",
      "(1173147, 252577, \"Angela's Ashes (Frank McCourt, #1)\", 401029, 4.08, 8, 8)\n",
      "(693917, 6900, 'Tuesdays with Morrie', 569888, 4.07, 8, 9)\n",
      "(2079404, 6493208, 'The Immortal Life of Henrietta Lacks', 390601, 4.04, 8, 10)\n",
      "(1548484, 62291, 'A Storm of Swords (A Song of Ice and Fire, #3)', 477834, 4.54, 9, 1)\n",
      "(843331, 4667024, 'The Help', 1565302, 4.45, 9, 2)\n",
      "(1561323, 13496, 'A Game of Thrones (A Song of Ice and Fire, #1)', 1359501, 4.45, 9, 3)\n",
      "(115707, 10572, 'A Clash of Kings  (A Song of Ice and Fire, #2)', 534960, 4.4, 9, 4)\n",
      "(22329, 8664353, 'Unbroken: A World War II Story of Survival, Resilience, and Redemption', 504961, 4.39, 9, 5)\n",
      "(602543, 19063, 'The Book Thief', 1193697, 4.36, 9, 6)\n",
      "(65815, 472331, 'Watchmen', 406669, 4.35, 9, 7)\n",
      "(1115750, 4406, 'East of Eden', 326016, 4.35, 9, 8)\n",
      "(627775, 128029, 'A Thousand Splendid Suns', 835172, 4.34, 9, 9)\n",
      "(2031800, 7171637, 'Clockwork Angel (The Infernal Devices, #1)', 502358, 4.33, 9, 10)\n",
      "(1548484, 62291, 'A Storm of Swords (A Song of Ice and Fire, #3)', 477834, 4.54, 10, 1)\n",
      "(843331, 4667024, 'The Help', 1565302, 4.45, 10, 2)\n",
      "(1561323, 13496, 'A Game of Thrones (A Song of Ice and Fire, #1)', 1359501, 4.45, 10, 3)\n",
      "(115707, 10572, 'A Clash of Kings  (A Song of Ice and Fire, #2)', 534960, 4.4, 10, 4)\n",
      "(22329, 8664353, 'Unbroken: A World War II Story of Survival, Resilience, and Redemption', 504961, 4.39, 10, 5)\n",
      "(602543, 19063, 'The Book Thief', 1193697, 4.36, 10, 6)\n",
      "(65815, 472331, 'Watchmen', 406669, 4.35, 10, 7)\n",
      "(1115750, 4406, 'East of Eden', 326016, 4.35, 10, 8)\n",
      "(627775, 128029, 'A Thousand Splendid Suns', 835172, 4.34, 10, 9)\n",
      "(2031800, 7171637, 'Clockwork Angel (The Infernal Devices, #1)', 502358, 4.33, 10, 10)\n",
      "(1457946, 136251, 'Harry Potter and the Deathly Hallows (Harry Potter, #7)', 1784684, 4.62, 11, 1)\n",
      "(770873, 1, 'Harry Potter and the Half-Blood Prince (Harry Potter, #6)', 1713866, 4.54, 11, 2)\n",
      "(920761, 5, 'Harry Potter and the Prisoner of Azkaban (Harry Potter, #3)', 1876252, 4.53, 11, 3)\n",
      "(1865211, 2, 'Harry Potter and the Order of the Phoenix (Harry Potter, #5)', 1766895, 4.47, 11, 4)\n",
      "(1419077, 3, \"Harry Potter and the Sorcerer's Stone (Harry Potter, #1)\", 4765497, 4.45, 11, 5)\n",
      "(1561323, 13496, 'A Game of Thrones (A Song of Ice and Fire, #1)', 1359501, 4.45, 11, 6)\n",
      "(1722739, 18007564, 'The Martian', 435440, 4.39, 11, 7)\n",
      "(1606553, 15881, 'Harry Potter and the Chamber of Secrets (Harry Potter, #2)', 1821802, 4.38, 11, 8)\n",
      "(65815, 472331, 'Watchmen', 406669, 4.35, 11, 9)\n",
      "(458630, 2767052, 'The Hunger Games (The Hunger Games, #1)', 4899965, 4.34, 11, 10)\n",
      "(22329, 8664353, 'Unbroken: A World War II Story of Survival, Resilience, and Redemption', 504961, 4.39, 12, 1)\n",
      "(627775, 128029, 'A Thousand Splendid Suns', 835172, 4.34, 12, 2)\n",
      "(819620, 1617, 'Night (The Night Trilogy #1)', 708754, 4.3, 12, 3)\n",
      "(1859566, 30119, 'Where the Sidewalk Ends', 1029527, 4.29, 12, 4)\n",
      "(84809, 77203, 'The Kite Runner', 1848782, 4.26, 12, 5)\n",
      "(1607515, 7445, 'The Glass Castle', 643450, 4.24, 12, 6)\n",
      "(1157755, 3153910, 'The Art of Racing in the Rain', 333109, 4.19, 12, 7)\n",
      "(1378078, 12691, \"Marley and Me: Life and Love With the World's Worst Dog\", 373596, 4.12, 12, 8)\n",
      "(1026352, 3228917, 'Outliers: The Story of Success', 360084, 4.11, 12, 9)\n",
      "(466724, 47281, 'Number the Stars', 338446, 4.11, 12, 10)\n",
      "(1457946, 136251, 'Harry Potter and the Deathly Hallows (Harry Potter, #7)', 1784684, 4.62, 13, 1)\n",
      "(5974, 186074, 'The Name of the Wind (The Kingkiller Chronicle, #1)', 416634, 4.55, 13, 2)\n",
      "(770873, 1, 'Harry Potter and the Half-Blood Prince (Harry Potter, #6)', 1713866, 4.54, 13, 3)\n",
      "(1548484, 62291, 'A Storm of Swords (A Song of Ice and Fire, #3)', 477834, 4.54, 13, 4)\n",
      "(920761, 5, 'Harry Potter and the Prisoner of Azkaban (Harry Potter, #3)', 1876252, 4.53, 13, 5)\n",
      "(2015402, 6, 'Harry Potter and the Goblet of Fire (Harry Potter, #4)', 1792561, 4.53, 13, 6)\n",
      "(1775025, 18512, 'The Return of the King (The Lord of the Rings, #3)', 473101, 4.51, 13, 7)\n",
      "(345824, 4502507, 'The Last Olympian (Percy Jackson and the Olympians, #5)', 398036, 4.5, 13, 8)\n",
      "(1958354, 33, 'The Lord of the Rings (The Lord of the Rings, #1-3)', 396933, 4.48, 13, 9)\n",
      "(1865211, 2, 'Harry Potter and the Order of the Phoenix (Harry Potter, #5)', 1766895, 4.47, 13, 10)\n",
      "(2100157, 370493, 'The Giving Tree', 720582, 4.37, 14, 1)\n",
      "(1859566, 30119, 'Where the Sidewalk Ends', 1029527, 4.29, 14, 2)\n",
      "(909131, 23772, 'Green Eggs and Ham', 465289, 4.29, 14, 3)\n",
      "(1300475, 233093, 'The Cat in the Hat', 320728, 4.15, 14, 4)\n",
      "(1109766, 24213, \"Alice's Adventures in Wonderland & Through the Looking-Glass\", 344482, 4.06, 14, 5)\n",
      "(1043858, 1420, 'Hamlet', 526122, 4.01, 14, 6)\n",
      "(316967, 1622, \"A Midsummer Night's Dream\", 340695, 3.94, 14, 7)\n",
      "(1740299, 8852, 'Macbeth', 502298, 3.88, 14, 8)\n",
      "(1425823, 18135, 'Romeo and Juliet', 1656919, 3.74, 14, 9)\n",
      "(1942034, 1381, 'The Odyssey', 680823, 3.73, 14, 10)\n",
      "(1457946, 136251, 'Harry Potter and the Deathly Hallows (Harry Potter, #7)', 1784684, 4.62, 15, 1)\n",
      "(5974, 186074, 'The Name of the Wind (The Kingkiller Chronicle, #1)', 416634, 4.55, 15, 2)\n",
      "(770873, 1, 'Harry Potter and the Half-Blood Prince (Harry Potter, #6)', 1713866, 4.54, 15, 3)\n",
      "(2015402, 6, 'Harry Potter and the Goblet of Fire (Harry Potter, #4)', 1792561, 4.53, 15, 4)\n",
      "(345824, 4502507, 'The Last Olympian (Percy Jackson and the Olympians, #5)', 398036, 4.5, 15, 5)\n",
      "(1865211, 2, 'Harry Potter and the Order of the Phoenix (Harry Potter, #5)', 1766895, 4.47, 15, 6)\n",
      "(1561323, 13496, 'A Game of Thrones (A Song of Ice and Fire, #1)', 1359501, 4.45, 15, 7)\n",
      "(1906602, 2120932, 'The Battle of the Labyrinth (Percy Jackson and the Olympians, #4)', 519213, 4.39, 15, 8)\n",
      "(458630, 2767052, 'The Hunger Games (The Hunger Games, #1)', 4899965, 4.34, 15, 9)\n",
      "(627775, 128029, 'A Thousand Splendid Suns', 835172, 4.34, 15, 10)\n",
      "(1457946, 136251, 'Harry Potter and the Deathly Hallows (Harry Potter, #7)', 1784684, 4.62, 16, 1)\n",
      "(770873, 1, 'Harry Potter and the Half-Blood Prince (Harry Potter, #6)', 1713866, 4.54, 16, 2)\n",
      "(920761, 5, 'Harry Potter and the Prisoner of Azkaban (Harry Potter, #3)', 1876252, 4.53, 16, 3)\n",
      "(1865211, 2, 'Harry Potter and the Order of the Phoenix (Harry Potter, #5)', 1766895, 4.47, 16, 4)\n",
      "(1419077, 3, \"Harry Potter and the Sorcerer's Stone (Harry Potter, #1)\", 4765497, 4.45, 16, 5)\n",
      "(1561323, 13496, 'A Game of Thrones (A Song of Ice and Fire, #1)', 1359501, 4.45, 16, 6)\n",
      "(1722739, 18007564, 'The Martian', 435440, 4.39, 16, 7)\n",
      "(1606553, 15881, 'Harry Potter and the Chamber of Secrets (Harry Potter, #2)', 1821802, 4.38, 16, 8)\n",
      "(65815, 472331, 'Watchmen', 406669, 4.35, 16, 9)\n",
      "(458630, 2767052, 'The Hunger Games (The Hunger Games, #1)', 4899965, 4.34, 16, 10)\n",
      "(1457946, 136251, 'Harry Potter and the Deathly Hallows (Harry Potter, #7)', 1784684, 4.62, 17, 1)\n",
      "(5974, 186074, 'The Name of the Wind (The Kingkiller Chronicle, #1)', 416634, 4.55, 17, 2)\n",
      "(770873, 1, 'Harry Potter and the Half-Blood Prince (Harry Potter, #6)', 1713866, 4.54, 17, 3)\n",
      "(920761, 5, 'Harry Potter and the Prisoner of Azkaban (Harry Potter, #3)', 1876252, 4.53, 17, 4)\n",
      "(2015402, 6, 'Harry Potter and the Goblet of Fire (Harry Potter, #4)', 1792561, 4.53, 17, 5)\n",
      "(1775025, 18512, 'The Return of the King (The Lord of the Rings, #3)', 473101, 4.51, 17, 6)\n",
      "(345824, 4502507, 'The Last Olympian (Percy Jackson and the Olympians, #5)', 398036, 4.5, 17, 7)\n",
      "(1958354, 33, 'The Lord of the Rings (The Lord of the Rings, #1-3)', 396933, 4.48, 17, 8)\n",
      "(1865211, 2, 'Harry Potter and the Order of the Phoenix (Harry Potter, #5)', 1766895, 4.47, 17, 9)\n",
      "(1419077, 3, \"Harry Potter and the Sorcerer's Stone (Harry Potter, #1)\", 4765497, 4.45, 17, 10)\n"
     ]
    }
   ],
   "source": [
    "for i in top10_by_genre[0]:\n",
    "    print(i)"
   ]
  }
 ],
 "metadata": {
  "kernelspec": {
   "display_name": "Python 3",
   "language": "python",
   "name": "python3"
  },
  "language_info": {
   "codemirror_mode": {
    "name": "ipython",
    "version": 3
   },
   "file_extension": ".py",
   "mimetype": "text/x-python",
   "name": "python",
   "nbconvert_exporter": "python",
   "pygments_lexer": "ipython3",
   "version": "3.10.11"
  }
 },
 "nbformat": 4,
 "nbformat_minor": 2
}
