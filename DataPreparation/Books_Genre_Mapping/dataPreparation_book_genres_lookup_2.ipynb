{
 "cells": [
  {
   "cell_type": "markdown",
   "metadata": {},
   "source": [
    "**Modules**"
   ]
  },
  {
   "cell_type": "code",
   "execution_count": 29,
   "metadata": {},
   "outputs": [],
   "source": [
    "import pandas as pd\n",
    "import pickle"
   ]
  },
  {
   "cell_type": "markdown",
   "metadata": {},
   "source": [
    "**Reading books with genres**"
   ]
  },
  {
   "cell_type": "code",
   "execution_count": 2,
   "metadata": {},
   "outputs": [],
   "source": [
    "books_with_genres = pd.read_parquet(\"./all_books_with_genres.parquet\")"
   ]
  },
  {
   "cell_type": "code",
   "execution_count": 3,
   "metadata": {},
   "outputs": [
    {
     "data": {
      "text/plain": [
       "(2113033, 5)"
      ]
     },
     "execution_count": 3,
     "metadata": {},
     "output_type": "execute_result"
    }
   ],
   "source": [
    "books_with_genres.shape"
   ]
  },
  {
   "cell_type": "code",
   "execution_count": 4,
   "metadata": {},
   "outputs": [
    {
     "data": {
      "text/html": [
       "<div>\n",
       "<style scoped>\n",
       "    .dataframe tbody tr th:only-of-type {\n",
       "        vertical-align: middle;\n",
       "    }\n",
       "\n",
       "    .dataframe tbody tr th {\n",
       "        vertical-align: top;\n",
       "    }\n",
       "\n",
       "    .dataframe thead th {\n",
       "        text-align: right;\n",
       "    }\n",
       "</style>\n",
       "<table border=\"1\" class=\"dataframe\">\n",
       "  <thead>\n",
       "    <tr style=\"text-align: right;\">\n",
       "      <th></th>\n",
       "      <th>book_id</th>\n",
       "      <th>title_without_series</th>\n",
       "      <th>genres</th>\n",
       "      <th>database_index</th>\n",
       "      <th>genres_mapped</th>\n",
       "    </tr>\n",
       "  </thead>\n",
       "  <tbody>\n",
       "    <tr>\n",
       "      <th>0</th>\n",
       "      <td>5333265</td>\n",
       "      <td>W.C. Fields: A Life on Film</td>\n",
       "      <td>[history, historical fiction, biography]</td>\n",
       "      <td>1</td>\n",
       "      <td>[10, 9, 2]</td>\n",
       "    </tr>\n",
       "    <tr>\n",
       "      <th>1</th>\n",
       "      <td>1333909</td>\n",
       "      <td>Good Harbor</td>\n",
       "      <td>[fiction, history, historical fiction, biography]</td>\n",
       "      <td>2</td>\n",
       "      <td>[7, 10, 9, 2]</td>\n",
       "    </tr>\n",
       "    <tr>\n",
       "      <th>2</th>\n",
       "      <td>7327624</td>\n",
       "      <td>The Unschooled Wizard (Sun Wolf and Starhawk, ...</td>\n",
       "      <td>[fantasy, paranormal, fiction, mystery, thrill...</td>\n",
       "      <td>3</td>\n",
       "      <td>[6, 13, 7, 11, 16, 5, 14]</td>\n",
       "    </tr>\n",
       "    <tr>\n",
       "      <th>3</th>\n",
       "      <td>6066819</td>\n",
       "      <td>Best Friends Forever</td>\n",
       "      <td>[fiction, romance, mystery, thriller, crime]</td>\n",
       "      <td>4</td>\n",
       "      <td>[7, 15, 11, 16, 5]</td>\n",
       "    </tr>\n",
       "    <tr>\n",
       "      <th>4</th>\n",
       "      <td>287140</td>\n",
       "      <td>Runic Astrology: Starcraft and Timekeeping in ...</td>\n",
       "      <td>[non-fiction]</td>\n",
       "      <td>5</td>\n",
       "      <td>[12]</td>\n",
       "    </tr>\n",
       "  </tbody>\n",
       "</table>\n",
       "</div>"
      ],
      "text/plain": [
       "   book_id                               title_without_series  \\\n",
       "0  5333265                        W.C. Fields: A Life on Film   \n",
       "1  1333909                                        Good Harbor   \n",
       "2  7327624  The Unschooled Wizard (Sun Wolf and Starhawk, ...   \n",
       "3  6066819                               Best Friends Forever   \n",
       "4   287140  Runic Astrology: Starcraft and Timekeeping in ...   \n",
       "\n",
       "                                              genres  database_index  \\\n",
       "0           [history, historical fiction, biography]               1   \n",
       "1  [fiction, history, historical fiction, biography]               2   \n",
       "2  [fantasy, paranormal, fiction, mystery, thrill...               3   \n",
       "3       [fiction, romance, mystery, thriller, crime]               4   \n",
       "4                                      [non-fiction]               5   \n",
       "\n",
       "               genres_mapped  \n",
       "0                 [10, 9, 2]  \n",
       "1              [7, 10, 9, 2]  \n",
       "2  [6, 13, 7, 11, 16, 5, 14]  \n",
       "3         [7, 15, 11, 16, 5]  \n",
       "4                       [12]  "
      ]
     },
     "execution_count": 4,
     "metadata": {},
     "output_type": "execute_result"
    }
   ],
   "source": [
    "books_with_genres.head()"
   ]
  },
  {
   "cell_type": "markdown",
   "metadata": {},
   "source": [
    "**Function to generate record tuples for uploading**"
   ]
  },
  {
   "cell_type": "code",
   "execution_count": 12,
   "metadata": {},
   "outputs": [],
   "source": [
    "def generate_record_tuple(row):\n",
    "    database_book_id = [row[\"database_index\"]]\n",
    "    genres_mapped = row[\"genres_mapped\"]\n",
    "   \n",
    "    return list(zip(database_book_id*len(genres_mapped), genres_mapped))"
   ]
  },
  {
   "cell_type": "markdown",
   "metadata": {},
   "source": [
    "**Testing the function on small data**"
   ]
  },
  {
   "cell_type": "code",
   "execution_count": 22,
   "metadata": {},
   "outputs": [
    {
     "data": {
      "text/plain": [
       "[[(1, 10), (1, 9), (1, 2)],\n",
       " [(2, 7), (2, 10), (2, 9), (2, 2)],\n",
       " [(3, 6), (3, 13), (3, 7), (3, 11), (3, 16), (3, 5), (3, 14)],\n",
       " [(4, 7), (4, 15), (4, 11), (4, 16), (4, 5)],\n",
       " [(5, 12)]]"
      ]
     },
     "execution_count": 22,
     "metadata": {},
     "output_type": "execute_result"
    }
   ],
   "source": [
    "data_list = books_with_genres.head().apply(generate_record_tuple,axis=1).to_list()\n",
    "data_list"
   ]
  },
  {
   "cell_type": "code",
   "execution_count": 23,
   "metadata": {},
   "outputs": [],
   "source": [
    "final_data_list = list()\n",
    "\n",
    "for data in data_list:\n",
    "    final_data_list.extend(data)"
   ]
  },
  {
   "cell_type": "code",
   "execution_count": 24,
   "metadata": {},
   "outputs": [
    {
     "data": {
      "text/plain": [
       "[(1, 10),\n",
       " (1, 9),\n",
       " (1, 2),\n",
       " (2, 7),\n",
       " (2, 10),\n",
       " (2, 9),\n",
       " (2, 2),\n",
       " (3, 6),\n",
       " (3, 13),\n",
       " (3, 7),\n",
       " (3, 11),\n",
       " (3, 16),\n",
       " (3, 5),\n",
       " (3, 14),\n",
       " (4, 7),\n",
       " (4, 15),\n",
       " (4, 11),\n",
       " (4, 16),\n",
       " (4, 5),\n",
       " (5, 12)]"
      ]
     },
     "execution_count": 24,
     "metadata": {},
     "output_type": "execute_result"
    }
   ],
   "source": [
    "final_data_list"
   ]
  },
  {
   "cell_type": "markdown",
   "metadata": {},
   "source": [
    "**Applying the function on the complete data**"
   ]
  },
  {
   "cell_type": "code",
   "execution_count": 25,
   "metadata": {},
   "outputs": [
    {
     "data": {
      "text/plain": [
       "[[(1, 10), (1, 9), (1, 2)],\n",
       " [(2, 7), (2, 10), (2, 9), (2, 2)],\n",
       " [(3, 6), (3, 13), (3, 7), (3, 11), (3, 16), (3, 5), (3, 14)],\n",
       " [(4, 7), (4, 15), (4, 11), (4, 16), (4, 5)],\n",
       " [(5, 12)]]"
      ]
     },
     "execution_count": 25,
     "metadata": {},
     "output_type": "execute_result"
    }
   ],
   "source": [
    "data_list = books_with_genres.apply(generate_record_tuple,axis=1).to_list()\n",
    "data_list[:5]"
   ]
  },
  {
   "cell_type": "code",
   "execution_count": 26,
   "metadata": {},
   "outputs": [],
   "source": [
    "final_data_list = list()\n",
    "\n",
    "for data in data_list:\n",
    "    final_data_list.extend(data)"
   ]
  },
  {
   "cell_type": "code",
   "execution_count": 28,
   "metadata": {},
   "outputs": [
    {
     "data": {
      "text/plain": [
       "[(1, 10),\n",
       " (1, 9),\n",
       " (1, 2),\n",
       " (2, 7),\n",
       " (2, 10),\n",
       " (2, 9),\n",
       " (2, 2),\n",
       " (3, 6),\n",
       " (3, 13),\n",
       " (3, 7)]"
      ]
     },
     "execution_count": 28,
     "metadata": {},
     "output_type": "execute_result"
    }
   ],
   "source": [
    "final_data_list[:10]"
   ]
  },
  {
   "cell_type": "markdown",
   "metadata": {},
   "source": [
    "**Export data for book_genres_lookup table**"
   ]
  },
  {
   "cell_type": "code",
   "execution_count": 30,
   "metadata": {},
   "outputs": [],
   "source": [
    "with open('./book_genres_lookup.pkl', 'wb') as f:\n",
    "    pickle.dump(final_data_list, f)"
   ]
  }
 ],
 "metadata": {
  "kernelspec": {
   "display_name": "Python 3",
   "language": "python",
   "name": "python3"
  },
  "language_info": {
   "codemirror_mode": {
    "name": "ipython",
    "version": 3
   },
   "file_extension": ".py",
   "mimetype": "text/x-python",
   "name": "python",
   "nbconvert_exporter": "python",
   "pygments_lexer": "ipython3",
   "version": "3.10.11"
  }
 },
 "nbformat": 4,
 "nbformat_minor": 2
}
